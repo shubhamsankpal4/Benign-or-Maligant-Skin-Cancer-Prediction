{
  "nbformat": 4,
  "nbformat_minor": 0,
  "metadata": {
    "colab": {
      "name": "Skin Cancer Prediction",
      "provenance": [],
      "collapsed_sections": []
    },
    "kernelspec": {
      "name": "python3",
      "display_name": "Python 3"
    },
    "accelerator": "GPU"
  },
  "cells": [
    {
      "cell_type": "code",
      "metadata": {
        "id": "nUwhRX3mlokJ",
        "colab_type": "code",
        "colab": {}
      },
      "source": [
        "from google.colab import drive"
      ],
      "execution_count": 1,
      "outputs": []
    },
    {
      "cell_type": "code",
      "metadata": {
        "id": "cFRBa0PJmF1u",
        "colab_type": "code",
        "colab": {
          "base_uri": "https://localhost:8080/",
          "height": 34
        },
        "outputId": "683a3a9c-66db-469e-e7a0-ad1d06d7843d"
      },
      "source": [
        "drive.mount('/content/drive')"
      ],
      "execution_count": 2,
      "outputs": [
        {
          "output_type": "stream",
          "text": [
            "Drive already mounted at /content/drive; to attempt to forcibly remount, call drive.mount(\"/content/drive\", force_remount=True).\n"
          ],
          "name": "stdout"
        }
      ]
    },
    {
      "cell_type": "code",
      "metadata": {
        "id": "D0wLvWU7m6mL",
        "colab_type": "code",
        "colab": {
          "base_uri": "https://localhost:8080/",
          "height": 34
        },
        "outputId": "197ca690-270c-49a4-e446-19e16037d75e"
      },
      "source": [
        "cd drive/My\\ Drive/Skin\\ Cancer\\ Prediction/skin-cancer-malignant-vs-benign"
      ],
      "execution_count": 3,
      "outputs": [
        {
          "output_type": "stream",
          "text": [
            "/content/drive/My Drive/Skin Cancer Prediction/skin-cancer-malignant-vs-benign\n"
          ],
          "name": "stdout"
        }
      ]
    },
    {
      "cell_type": "code",
      "metadata": {
        "id": "0p-Yiqd59yEi",
        "colab_type": "code",
        "colab": {
          "base_uri": "https://localhost:8080/",
          "height": 353
        },
        "outputId": "08c1c40a-60a4-492e-bcb3-c3269c45d4e6"
      },
      "source": [
        "!nvidia-smi"
      ],
      "execution_count": 4,
      "outputs": [
        {
          "output_type": "stream",
          "text": [
            "Mon Sep 14 03:48:42 2020       \n",
            "+-----------------------------------------------------------------------------+\n",
            "| NVIDIA-SMI 450.66       Driver Version: 418.67       CUDA Version: 10.1     |\n",
            "|-------------------------------+----------------------+----------------------+\n",
            "| GPU  Name        Persistence-M| Bus-Id        Disp.A | Volatile Uncorr. ECC |\n",
            "| Fan  Temp  Perf  Pwr:Usage/Cap|         Memory-Usage | GPU-Util  Compute M. |\n",
            "|                               |                      |               MIG M. |\n",
            "|===============================+======================+======================|\n",
            "|   0  Tesla T4            Off  | 00000000:00:04.0 Off |                    0 |\n",
            "| N/A   53C    P8    10W /  70W |      0MiB / 15079MiB |      0%      Default |\n",
            "|                               |                      |                 ERR! |\n",
            "+-------------------------------+----------------------+----------------------+\n",
            "                                                                               \n",
            "+-----------------------------------------------------------------------------+\n",
            "| Processes:                                                                  |\n",
            "|  GPU   GI   CI        PID   Type   Process name                  GPU Memory |\n",
            "|        ID   ID                                                   Usage      |\n",
            "|=============================================================================|\n",
            "|  No running processes found                                                 |\n",
            "+-----------------------------------------------------------------------------+\n"
          ],
          "name": "stdout"
        }
      ]
    },
    {
      "cell_type": "code",
      "metadata": {
        "id": "0HdXKGt2koSI",
        "colab_type": "code",
        "colab": {}
      },
      "source": [
        "from keras.models import Sequential\n",
        "from keras.layers import Conv2D\n",
        "from keras.layers import MaxPooling2D\n",
        "from keras.layers import Flatten\n",
        "from keras.layers import Dense\n",
        "from keras.layers import Dropout\n",
        "#from keras.layers.normalization import BatchNormalization"
      ],
      "execution_count": 5,
      "outputs": []
    },
    {
      "cell_type": "code",
      "metadata": {
        "id": "Rq1334uaktyw",
        "colab_type": "code",
        "colab": {}
      },
      "source": [
        "# Initialising the CNN\n",
        "classifier = Sequential()"
      ],
      "execution_count": 6,
      "outputs": []
    },
    {
      "cell_type": "code",
      "metadata": {
        "id": "g0fPFL-6ku-W",
        "colab_type": "code",
        "colab": {}
      },
      "source": [
        "# Step 1 - Convolution\n",
        "classifier.add(Conv2D(32, (3, 3), input_shape = (128, 128, 3), activation='relu'))\n",
        "#classifier.add(BatchNormalization())"
      ],
      "execution_count": 7,
      "outputs": []
    },
    {
      "cell_type": "code",
      "metadata": {
        "id": "UE6nnWB_kxbn",
        "colab_type": "code",
        "colab": {}
      },
      "source": [
        "# Step 2 - Pooling\n",
        "classifier.add(MaxPooling2D(pool_size = (2, 2)))"
      ],
      "execution_count": 8,
      "outputs": []
    },
    {
      "cell_type": "code",
      "metadata": {
        "id": "573gZBZxLRSL",
        "colab_type": "code",
        "colab": {}
      },
      "source": [
        "classifier.add(Dropout(0.2))"
      ],
      "execution_count": 9,
      "outputs": []
    },
    {
      "cell_type": "code",
      "metadata": {
        "id": "HguWUhYbkzob",
        "colab_type": "code",
        "colab": {}
      },
      "source": [
        "# Adding a second convolutional layer\n",
        "classifier.add(Conv2D(32, (3, 3), activation = 'relu'))\n",
        "#classifier.add(BatchNormalization())\n",
        "classifier.add(MaxPooling2D(pool_size = (2, 2)))"
      ],
      "execution_count": 10,
      "outputs": []
    },
    {
      "cell_type": "code",
      "metadata": {
        "id": "bmG1BTk9Oa2C",
        "colab_type": "code",
        "colab": {}
      },
      "source": [
        "classifier.add(Dropout(0.4))"
      ],
      "execution_count": 11,
      "outputs": []
    },
    {
      "cell_type": "code",
      "metadata": {
        "id": "zclu7rBbk2FR",
        "colab_type": "code",
        "colab": {}
      },
      "source": [
        "# Step 3 - Flattening\n",
        "classifier.add(Flatten())"
      ],
      "execution_count": 12,
      "outputs": []
    },
    {
      "cell_type": "code",
      "metadata": {
        "id": "jCvVMMfKk4mH",
        "colab_type": "code",
        "colab": {}
      },
      "source": [
        "# Step 4 - Full connection\n",
        "classifier.add(Dense(units = 256, activation = 'relu'))\n",
        "classifier.add(Dropout(0.2))\n",
        "classifier.add(Dense(units = 1, activation = 'sigmoid'))"
      ],
      "execution_count": 13,
      "outputs": []
    },
    {
      "cell_type": "code",
      "metadata": {
        "id": "TIIO7wx_SPJi",
        "colab_type": "code",
        "colab": {}
      },
      "source": [
        "from tensorflow import keras\n",
        "adam = keras.optimizers.Adam(learning_rate=0.0001)"
      ],
      "execution_count": 14,
      "outputs": []
    },
    {
      "cell_type": "code",
      "metadata": {
        "id": "tTj7F0xLk6p_",
        "colab_type": "code",
        "colab": {}
      },
      "source": [
        "# Compiling the CNN'\n",
        "classifier.compile(optimizer = adam, loss = 'binary_crossentropy', metrics = ['accuracy'])"
      ],
      "execution_count": 15,
      "outputs": []
    },
    {
      "cell_type": "code",
      "metadata": {
        "id": "6_xiA6kt2-pD",
        "colab_type": "code",
        "colab": {
          "base_uri": "https://localhost:8080/",
          "height": 487
        },
        "outputId": "0ae2e843-9d6a-4a21-a6b7-4ab89008675d"
      },
      "source": [
        "classifier.summary()"
      ],
      "execution_count": 16,
      "outputs": [
        {
          "output_type": "stream",
          "text": [
            "Model: \"sequential\"\n",
            "_________________________________________________________________\n",
            "Layer (type)                 Output Shape              Param #   \n",
            "=================================================================\n",
            "conv2d (Conv2D)              (None, 126, 126, 32)      896       \n",
            "_________________________________________________________________\n",
            "max_pooling2d (MaxPooling2D) (None, 63, 63, 32)        0         \n",
            "_________________________________________________________________\n",
            "dropout (Dropout)            (None, 63, 63, 32)        0         \n",
            "_________________________________________________________________\n",
            "conv2d_1 (Conv2D)            (None, 61, 61, 32)        9248      \n",
            "_________________________________________________________________\n",
            "max_pooling2d_1 (MaxPooling2 (None, 30, 30, 32)        0         \n",
            "_________________________________________________________________\n",
            "dropout_1 (Dropout)          (None, 30, 30, 32)        0         \n",
            "_________________________________________________________________\n",
            "flatten (Flatten)            (None, 28800)             0         \n",
            "_________________________________________________________________\n",
            "dense (Dense)                (None, 256)               7373056   \n",
            "_________________________________________________________________\n",
            "dropout_2 (Dropout)          (None, 256)               0         \n",
            "_________________________________________________________________\n",
            "dense_1 (Dense)              (None, 1)                 257       \n",
            "=================================================================\n",
            "Total params: 7,383,457\n",
            "Trainable params: 7,383,457\n",
            "Non-trainable params: 0\n",
            "_________________________________________________________________\n"
          ],
          "name": "stdout"
        }
      ]
    },
    {
      "cell_type": "code",
      "metadata": {
        "id": "9FapwsIKk9J6",
        "colab_type": "code",
        "colab": {}
      },
      "source": [
        "# Part 2 - Fitting the CNN to the images\n",
        "from keras.preprocessing.image import ImageDataGenerator"
      ],
      "execution_count": 17,
      "outputs": []
    },
    {
      "cell_type": "code",
      "metadata": {
        "id": "F7MiCAu-k_h4",
        "colab_type": "code",
        "colab": {}
      },
      "source": [
        "train_datagen = ImageDataGenerator(rescale = 1./255,\n",
        "                                   shear_range = 0.2,\n",
        "                                   zoom_range = 0.2,\n",
        "                                   horizontal_flip = True)\n",
        "\n",
        "test_datagen = ImageDataGenerator(rescale = 1./255)"
      ],
      "execution_count": 18,
      "outputs": []
    },
    {
      "cell_type": "code",
      "metadata": {
        "id": "hH5Yn-f8UfG2",
        "colab_type": "code",
        "colab": {
          "base_uri": "https://localhost:8080/",
          "height": 34
        },
        "outputId": "bf2bb449-8f7c-4a75-b607-a7962610b111"
      },
      "source": [
        "train_datagen"
      ],
      "execution_count": 19,
      "outputs": [
        {
          "output_type": "execute_result",
          "data": {
            "text/plain": [
              "<tensorflow.python.keras.preprocessing.image.ImageDataGenerator at 0x7f881a6b5080>"
            ]
          },
          "metadata": {
            "tags": []
          },
          "execution_count": 19
        }
      ]
    },
    {
      "cell_type": "code",
      "metadata": {
        "id": "6rOMKybQlCci",
        "colab_type": "code",
        "colab": {
          "base_uri": "https://localhost:8080/",
          "height": 34
        },
        "outputId": "0dd70416-d06a-40dc-d1dd-20cb68f3851d"
      },
      "source": [
        "training_set = train_datagen.flow_from_directory('data/train',\n",
        "                                                 target_size = (128, 128),\n",
        "                                                 batch_size = 16,\n",
        "                                                 class_mode = 'binary')"
      ],
      "execution_count": 20,
      "outputs": [
        {
          "output_type": "stream",
          "text": [
            "Found 2395 images belonging to 2 classes.\n"
          ],
          "name": "stdout"
        }
      ]
    },
    {
      "cell_type": "code",
      "metadata": {
        "id": "hytasU1EU02R",
        "colab_type": "code",
        "colab": {
          "base_uri": "https://localhost:8080/",
          "height": 34
        },
        "outputId": "4e029655-65a0-4edb-d2ee-837f9197c36f"
      },
      "source": [
        "len(training_set)"
      ],
      "execution_count": 21,
      "outputs": [
        {
          "output_type": "execute_result",
          "data": {
            "text/plain": [
              "150"
            ]
          },
          "metadata": {
            "tags": []
          },
          "execution_count": 21
        }
      ]
    },
    {
      "cell_type": "code",
      "metadata": {
        "id": "Qy8CGK7xlF5V",
        "colab_type": "code",
        "colab": {
          "base_uri": "https://localhost:8080/",
          "height": 34
        },
        "outputId": "46ee79cb-a71f-4776-90b8-c918073f8e15"
      },
      "source": [
        "test_set = test_datagen.flow_from_directory('data/test',\n",
        "                                            target_size = (128, 128),\n",
        "                                            batch_size = 16,\n",
        "                                            class_mode = 'binary')"
      ],
      "execution_count": 22,
      "outputs": [
        {
          "output_type": "stream",
          "text": [
            "Found 600 images belonging to 2 classes.\n"
          ],
          "name": "stdout"
        }
      ]
    },
    {
      "cell_type": "code",
      "metadata": {
        "id": "CtnLv1l0Wexm",
        "colab_type": "code",
        "colab": {
          "base_uri": "https://localhost:8080/",
          "height": 34
        },
        "outputId": "9f30776f-fb89-4e9b-f4aa-87e783fce74f"
      },
      "source": [
        "len(test_set)"
      ],
      "execution_count": 23,
      "outputs": [
        {
          "output_type": "execute_result",
          "data": {
            "text/plain": [
              "38"
            ]
          },
          "metadata": {
            "tags": []
          },
          "execution_count": 23
        }
      ]
    },
    {
      "cell_type": "code",
      "metadata": {
        "id": "HjXutagnlIik",
        "colab_type": "code",
        "colab": {
          "base_uri": "https://localhost:8080/",
          "height": 1000
        },
        "outputId": "99858f45-a2eb-4821-b38a-7964276f9971"
      },
      "source": [
        "model = classifier.fit_generator(training_set,\n",
        "                       steps_per_epoch = len(training_set),\n",
        "                       epochs = 50,\n",
        "                       validation_data = test_set,\n",
        "                       validation_steps = len(test_set))"
      ],
      "execution_count": 25,
      "outputs": [
        {
          "output_type": "stream",
          "text": [
            "Epoch 1/50\n",
            "150/150 [==============================] - 57s 380ms/step - loss: 0.5149 - accuracy: 0.7395 - val_loss: 0.5631 - val_accuracy: 0.7417\n",
            "Epoch 2/50\n",
            "150/150 [==============================] - 17s 112ms/step - loss: 0.4688 - accuracy: 0.7582 - val_loss: 0.4749 - val_accuracy: 0.8000\n",
            "Epoch 3/50\n",
            "150/150 [==============================] - 17s 113ms/step - loss: 0.4550 - accuracy: 0.7745 - val_loss: 0.4769 - val_accuracy: 0.7983\n",
            "Epoch 4/50\n",
            "150/150 [==============================] - 17s 113ms/step - loss: 0.4264 - accuracy: 0.7900 - val_loss: 0.4637 - val_accuracy: 0.8000\n",
            "Epoch 5/50\n",
            "150/150 [==============================] - 17s 113ms/step - loss: 0.4244 - accuracy: 0.7942 - val_loss: 0.4568 - val_accuracy: 0.8017\n",
            "Epoch 6/50\n",
            "150/150 [==============================] - 17s 112ms/step - loss: 0.4075 - accuracy: 0.7958 - val_loss: 0.4487 - val_accuracy: 0.8167\n",
            "Epoch 7/50\n",
            "150/150 [==============================] - 17s 112ms/step - loss: 0.4006 - accuracy: 0.8100 - val_loss: 0.4411 - val_accuracy: 0.8250\n",
            "Epoch 8/50\n",
            "150/150 [==============================] - 17s 113ms/step - loss: 0.4002 - accuracy: 0.8050 - val_loss: 0.4545 - val_accuracy: 0.8267\n",
            "Epoch 9/50\n",
            "150/150 [==============================] - 17s 111ms/step - loss: 0.3958 - accuracy: 0.8038 - val_loss: 0.4421 - val_accuracy: 0.8300\n",
            "Epoch 10/50\n",
            "150/150 [==============================] - 17s 113ms/step - loss: 0.4000 - accuracy: 0.7992 - val_loss: 0.4348 - val_accuracy: 0.8283\n",
            "Epoch 11/50\n",
            "150/150 [==============================] - 17s 113ms/step - loss: 0.3911 - accuracy: 0.8092 - val_loss: 0.4592 - val_accuracy: 0.8333\n",
            "Epoch 12/50\n",
            "150/150 [==============================] - 17s 113ms/step - loss: 0.3857 - accuracy: 0.8205 - val_loss: 0.4281 - val_accuracy: 0.8250\n",
            "Epoch 13/50\n",
            "150/150 [==============================] - 17s 112ms/step - loss: 0.3846 - accuracy: 0.8163 - val_loss: 0.4598 - val_accuracy: 0.8217\n",
            "Epoch 14/50\n",
            "150/150 [==============================] - 17s 112ms/step - loss: 0.3745 - accuracy: 0.8188 - val_loss: 0.4379 - val_accuracy: 0.8317\n",
            "Epoch 15/50\n",
            "150/150 [==============================] - 17s 111ms/step - loss: 0.3803 - accuracy: 0.8188 - val_loss: 0.4582 - val_accuracy: 0.8183\n",
            "Epoch 16/50\n",
            "150/150 [==============================] - 17s 111ms/step - loss: 0.3762 - accuracy: 0.8217 - val_loss: 0.4286 - val_accuracy: 0.8400\n",
            "Epoch 17/50\n",
            "150/150 [==============================] - 18s 117ms/step - loss: 0.3640 - accuracy: 0.8292 - val_loss: 0.4211 - val_accuracy: 0.8450\n",
            "Epoch 18/50\n",
            "150/150 [==============================] - 17s 111ms/step - loss: 0.3685 - accuracy: 0.8251 - val_loss: 0.4216 - val_accuracy: 0.8183\n",
            "Epoch 19/50\n",
            "150/150 [==============================] - 17s 111ms/step - loss: 0.3755 - accuracy: 0.8138 - val_loss: 0.4207 - val_accuracy: 0.8300\n",
            "Epoch 20/50\n",
            "150/150 [==============================] - 17s 111ms/step - loss: 0.3639 - accuracy: 0.8225 - val_loss: 0.4221 - val_accuracy: 0.8167\n",
            "Epoch 21/50\n",
            "150/150 [==============================] - 17s 111ms/step - loss: 0.3547 - accuracy: 0.8234 - val_loss: 0.4129 - val_accuracy: 0.8300\n",
            "Epoch 22/50\n",
            "150/150 [==============================] - 17s 111ms/step - loss: 0.3556 - accuracy: 0.8338 - val_loss: 0.4291 - val_accuracy: 0.8233\n",
            "Epoch 23/50\n",
            "150/150 [==============================] - 16s 110ms/step - loss: 0.3499 - accuracy: 0.8292 - val_loss: 0.4284 - val_accuracy: 0.8150\n",
            "Epoch 24/50\n",
            "150/150 [==============================] - 17s 111ms/step - loss: 0.3566 - accuracy: 0.8338 - val_loss: 0.4211 - val_accuracy: 0.8300\n",
            "Epoch 25/50\n",
            "150/150 [==============================] - 17s 110ms/step - loss: 0.3489 - accuracy: 0.8384 - val_loss: 0.3942 - val_accuracy: 0.8467\n",
            "Epoch 26/50\n",
            "150/150 [==============================] - 17s 111ms/step - loss: 0.3448 - accuracy: 0.8409 - val_loss: 0.4141 - val_accuracy: 0.8350\n",
            "Epoch 27/50\n",
            "150/150 [==============================] - 17s 111ms/step - loss: 0.3380 - accuracy: 0.8459 - val_loss: 0.4028 - val_accuracy: 0.8317\n",
            "Epoch 28/50\n",
            "150/150 [==============================] - 17s 110ms/step - loss: 0.3378 - accuracy: 0.8413 - val_loss: 0.4180 - val_accuracy: 0.8500\n",
            "Epoch 29/50\n",
            "150/150 [==============================] - 17s 112ms/step - loss: 0.3454 - accuracy: 0.8380 - val_loss: 0.4031 - val_accuracy: 0.8450\n",
            "Epoch 30/50\n",
            "150/150 [==============================] - 17s 111ms/step - loss: 0.3396 - accuracy: 0.8338 - val_loss: 0.3967 - val_accuracy: 0.8500\n",
            "Epoch 31/50\n",
            "150/150 [==============================] - 17s 112ms/step - loss: 0.3409 - accuracy: 0.8367 - val_loss: 0.3959 - val_accuracy: 0.8483\n",
            "Epoch 32/50\n",
            "150/150 [==============================] - 17s 112ms/step - loss: 0.3393 - accuracy: 0.8392 - val_loss: 0.4021 - val_accuracy: 0.8367\n",
            "Epoch 33/50\n",
            "150/150 [==============================] - 17s 110ms/step - loss: 0.3339 - accuracy: 0.8438 - val_loss: 0.4050 - val_accuracy: 0.8417\n",
            "Epoch 34/50\n",
            "150/150 [==============================] - 17s 110ms/step - loss: 0.3232 - accuracy: 0.8463 - val_loss: 0.4039 - val_accuracy: 0.8333\n",
            "Epoch 35/50\n",
            "150/150 [==============================] - 17s 114ms/step - loss: 0.3244 - accuracy: 0.8514 - val_loss: 0.3832 - val_accuracy: 0.8517\n",
            "Epoch 36/50\n",
            "150/150 [==============================] - 17s 112ms/step - loss: 0.3300 - accuracy: 0.8430 - val_loss: 0.3912 - val_accuracy: 0.8483\n",
            "Epoch 37/50\n",
            "150/150 [==============================] - 17s 110ms/step - loss: 0.3272 - accuracy: 0.8384 - val_loss: 0.3816 - val_accuracy: 0.8450\n",
            "Epoch 38/50\n",
            "150/150 [==============================] - 16s 110ms/step - loss: 0.3289 - accuracy: 0.8459 - val_loss: 0.3743 - val_accuracy: 0.8450\n",
            "Epoch 39/50\n",
            "150/150 [==============================] - 16s 110ms/step - loss: 0.3186 - accuracy: 0.8501 - val_loss: 0.3723 - val_accuracy: 0.8500\n",
            "Epoch 40/50\n",
            "150/150 [==============================] - 17s 110ms/step - loss: 0.3135 - accuracy: 0.8484 - val_loss: 0.3725 - val_accuracy: 0.8500\n",
            "Epoch 41/50\n",
            "150/150 [==============================] - 16s 109ms/step - loss: 0.3051 - accuracy: 0.8522 - val_loss: 0.3686 - val_accuracy: 0.8467\n",
            "Epoch 42/50\n",
            "150/150 [==============================] - 16s 107ms/step - loss: 0.3164 - accuracy: 0.8484 - val_loss: 0.3556 - val_accuracy: 0.8550\n",
            "Epoch 43/50\n",
            "150/150 [==============================] - 16s 106ms/step - loss: 0.3134 - accuracy: 0.8509 - val_loss: 0.3532 - val_accuracy: 0.8450\n",
            "Epoch 44/50\n",
            "150/150 [==============================] - 16s 106ms/step - loss: 0.3012 - accuracy: 0.8530 - val_loss: 0.3511 - val_accuracy: 0.8433\n",
            "Epoch 45/50\n",
            "150/150 [==============================] - 16s 107ms/step - loss: 0.3051 - accuracy: 0.8493 - val_loss: 0.3737 - val_accuracy: 0.8417\n",
            "Epoch 46/50\n",
            "150/150 [==============================] - 16s 107ms/step - loss: 0.3016 - accuracy: 0.8497 - val_loss: 0.3605 - val_accuracy: 0.8433\n",
            "Epoch 47/50\n",
            "150/150 [==============================] - 16s 107ms/step - loss: 0.3017 - accuracy: 0.8597 - val_loss: 0.3722 - val_accuracy: 0.8300\n",
            "Epoch 48/50\n",
            "150/150 [==============================] - 16s 108ms/step - loss: 0.3092 - accuracy: 0.8568 - val_loss: 0.3939 - val_accuracy: 0.8250\n",
            "Epoch 49/50\n",
            "150/150 [==============================] - 16s 105ms/step - loss: 0.2913 - accuracy: 0.8580 - val_loss: 0.3620 - val_accuracy: 0.8383\n",
            "Epoch 50/50\n",
            "150/150 [==============================] - 16s 105ms/step - loss: 0.2820 - accuracy: 0.8672 - val_loss: 0.3459 - val_accuracy: 0.8433\n"
          ],
          "name": "stdout"
        }
      ]
    },
    {
      "cell_type": "code",
      "metadata": {
        "id": "1kAHthXjllr9",
        "colab_type": "code",
        "colab": {}
      },
      "source": [
        "from tensorflow.keras.models import load_model\n",
        "classifier.save('model_benign_malignant_50epochs.h5')"
      ],
      "execution_count": 31,
      "outputs": []
    },
    {
      "cell_type": "markdown",
      "metadata": {
        "id": "Ez_H0EknJi4D",
        "colab_type": "text"
      },
      "source": [
        "# Single Prediction"
      ]
    },
    {
      "cell_type": "code",
      "metadata": {
        "id": "0JvZ0Ujeo2jc",
        "colab_type": "code",
        "colab": {}
      },
      "source": [
        "import numpy as np\n",
        "from keras.preprocessing import image"
      ],
      "execution_count": 26,
      "outputs": []
    },
    {
      "cell_type": "code",
      "metadata": {
        "id": "DLcBWBO9POLn",
        "colab_type": "code",
        "colab": {}
      },
      "source": [
        "MODEL_PATH ='model_benign_malignant_50epochs.h5'"
      ],
      "execution_count": 27,
      "outputs": []
    },
    {
      "cell_type": "code",
      "metadata": {
        "id": "lxIOewIXP9YX",
        "colab_type": "code",
        "colab": {}
      },
      "source": [
        "import os\n",
        "os.environ[\"HDF5_USE_FILE_LOCKING\"] = \"FALSE\""
      ],
      "execution_count": 28,
      "outputs": []
    },
    {
      "cell_type": "code",
      "metadata": {
        "id": "T60FvhfoJju5",
        "colab_type": "code",
        "colab": {}
      },
      "source": [
        "from keras.models import load_model\n",
        "classifier = load_model(MODEL_PATH)"
      ],
      "execution_count": 32,
      "outputs": []
    },
    {
      "cell_type": "code",
      "metadata": {
        "id": "xtstbWN-iGM9",
        "colab_type": "code",
        "colab": {
          "base_uri": "https://localhost:8080/",
          "height": 34
        },
        "outputId": "4d41c95e-1f76-4c25-a000-d5882caf83f6"
      },
      "source": [
        "training_set.class_indices"
      ],
      "execution_count": 33,
      "outputs": [
        {
          "output_type": "execute_result",
          "data": {
            "text/plain": [
              "{'benign': 0, 'malignant': 1}"
            ]
          },
          "metadata": {
            "tags": []
          },
          "execution_count": 33
        }
      ]
    },
    {
      "cell_type": "code",
      "metadata": {
        "id": "TqewSzDIrvHW",
        "colab_type": "code",
        "colab": {
          "base_uri": "https://localhost:8080/",
          "height": 34
        },
        "outputId": "6b399eff-0d7e-4666-b5d6-10212de348a4"
      },
      "source": [
        "test_image = image.load_img('malignant_single_pred.jpg', target_size = (128, 128))\n",
        "test_image = image.img_to_array(test_image)\n",
        "test_image = np.expand_dims(test_image, axis = 0)\n",
        "result = classifier.predict(test_image)\n",
        "if result[0][0] == 1:\n",
        "  prediction = 'malignant'\n",
        "else:\n",
        "  prediction = 'benign'\n",
        "print(result)"
      ],
      "execution_count": 34,
      "outputs": [
        {
          "output_type": "stream",
          "text": [
            "[[1.]]\n"
          ],
          "name": "stdout"
        }
      ]
    },
    {
      "cell_type": "code",
      "metadata": {
        "id": "RhgXvSZqQIVQ",
        "colab_type": "code",
        "colab": {
          "base_uri": "https://localhost:8080/",
          "height": 34
        },
        "outputId": "87d172ba-b012-4c86-9c61-87ec59913f37"
      },
      "source": [
        "test_image = image.load_img('benign_single_pred.jpg', target_size = (128, 128))\n",
        "test_image = image.img_to_array(test_image)\n",
        "test_image = np.expand_dims(test_image, axis = 0)\n",
        "result = classifier.predict(test_image)\n",
        "if result[0][0] == 1:\n",
        "  prediction = 'malignant'\n",
        "else:\n",
        "  prediction = 'benign'\n",
        "print(result)"
      ],
      "execution_count": 42,
      "outputs": [
        {
          "output_type": "stream",
          "text": [
            "[[0.]]\n"
          ],
          "name": "stdout"
        }
      ]
    }
  ]
}